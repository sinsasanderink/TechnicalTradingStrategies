{
  "cells": [
    {
      "cell_type": "markdown",
      "id": "d90dc21b",
      "metadata": {
        "id": "d90dc21b"
      },
      "source": [
        "# Volume Reversal Strategy\n",
        "\n",
        "In this notebook, we will implement a trading strategy based on price movements corresponding to the trading volume of the security."
      ]
    },
    {
      "cell_type": "markdown",
      "id": "89e17d34",
      "metadata": {
        "id": "89e17d34"
      },
      "source": [
        "## Import the libraries\n",
        "First we will import the necessary libraries."
      ]
    },
    {
      "cell_type": "code",
      "execution_count": 3,
      "id": "a7c86f59",
      "metadata": {
        "id": "a7c86f59"
      },
      "outputs": [],
      "source": [
        "import numpy as np\n",
        "import matplotlib.pyplot as plt\n",
        "import pandas as pd\n",
        "import warnings\n",
        "warnings.filterwarnings('ignore')"
      ]
    },
    {
      "cell_type": "markdown",
      "id": "3afaa565",
      "metadata": {
        "id": "3afaa565"
      },
      "source": [
        "## Stock data\n",
        "We will now read the data for Apple(AAPL) from CSV file. We will be saving the data in the dataframe 'data'. We will then, print the data to visualize it by using the head() function which prints the top 5 rows of the dataset."
      ]
    },
    {
      "cell_type": "code",
      "execution_count": 4,
      "id": "312bb381",
      "metadata": {
        "colab": {
          "base_uri": "https://localhost:8080/",
          "height": 238
        },
        "id": "312bb381",
        "outputId": "2450670e-bec6-4b88-f542-19cf09a754e3"
      },
      "outputs": [
        {
          "output_type": "execute_result",
          "data": {
            "text/plain": [
              "              Open    High     Low   Close    Volume\n",
              "date                                                \n",
              "2018-06-19  185.14  186.33  183.45  185.69  33578455\n",
              "2018-06-20  186.35  187.20  185.73  186.50  20628701\n",
              "2018-06-21  187.25  188.35  184.94  185.46  25711898\n",
              "2018-06-22  186.12  186.15  184.70  184.92  27200447\n",
              "2018-06-25  183.40  184.92  180.73  182.17  31663096"
            ],
            "text/html": [
              "\n",
              "  <div id=\"df-6d232c3b-9a15-466c-ad7b-9e0915efdb23\" class=\"colab-df-container\">\n",
              "    <div>\n",
              "<style scoped>\n",
              "    .dataframe tbody tr th:only-of-type {\n",
              "        vertical-align: middle;\n",
              "    }\n",
              "\n",
              "    .dataframe tbody tr th {\n",
              "        vertical-align: top;\n",
              "    }\n",
              "\n",
              "    .dataframe thead th {\n",
              "        text-align: right;\n",
              "    }\n",
              "</style>\n",
              "<table border=\"1\" class=\"dataframe\">\n",
              "  <thead>\n",
              "    <tr style=\"text-align: right;\">\n",
              "      <th></th>\n",
              "      <th>Open</th>\n",
              "      <th>High</th>\n",
              "      <th>Low</th>\n",
              "      <th>Close</th>\n",
              "      <th>Volume</th>\n",
              "    </tr>\n",
              "    <tr>\n",
              "      <th>date</th>\n",
              "      <th></th>\n",
              "      <th></th>\n",
              "      <th></th>\n",
              "      <th></th>\n",
              "      <th></th>\n",
              "    </tr>\n",
              "  </thead>\n",
              "  <tbody>\n",
              "    <tr>\n",
              "      <th>2018-06-19</th>\n",
              "      <td>185.14</td>\n",
              "      <td>186.33</td>\n",
              "      <td>183.45</td>\n",
              "      <td>185.69</td>\n",
              "      <td>33578455</td>\n",
              "    </tr>\n",
              "    <tr>\n",
              "      <th>2018-06-20</th>\n",
              "      <td>186.35</td>\n",
              "      <td>187.20</td>\n",
              "      <td>185.73</td>\n",
              "      <td>186.50</td>\n",
              "      <td>20628701</td>\n",
              "    </tr>\n",
              "    <tr>\n",
              "      <th>2018-06-21</th>\n",
              "      <td>187.25</td>\n",
              "      <td>188.35</td>\n",
              "      <td>184.94</td>\n",
              "      <td>185.46</td>\n",
              "      <td>25711898</td>\n",
              "    </tr>\n",
              "    <tr>\n",
              "      <th>2018-06-22</th>\n",
              "      <td>186.12</td>\n",
              "      <td>186.15</td>\n",
              "      <td>184.70</td>\n",
              "      <td>184.92</td>\n",
              "      <td>27200447</td>\n",
              "    </tr>\n",
              "    <tr>\n",
              "      <th>2018-06-25</th>\n",
              "      <td>183.40</td>\n",
              "      <td>184.92</td>\n",
              "      <td>180.73</td>\n",
              "      <td>182.17</td>\n",
              "      <td>31663096</td>\n",
              "    </tr>\n",
              "  </tbody>\n",
              "</table>\n",
              "</div>\n",
              "    <div class=\"colab-df-buttons\">\n",
              "\n",
              "  <div class=\"colab-df-container\">\n",
              "    <button class=\"colab-df-convert\" onclick=\"convertToInteractive('df-6d232c3b-9a15-466c-ad7b-9e0915efdb23')\"\n",
              "            title=\"Convert this dataframe to an interactive table.\"\n",
              "            style=\"display:none;\">\n",
              "\n",
              "  <svg xmlns=\"http://www.w3.org/2000/svg\" height=\"24px\" viewBox=\"0 -960 960 960\">\n",
              "    <path d=\"M120-120v-720h720v720H120Zm60-500h600v-160H180v160Zm220 220h160v-160H400v160Zm0 220h160v-160H400v160ZM180-400h160v-160H180v160Zm440 0h160v-160H620v160ZM180-180h160v-160H180v160Zm440 0h160v-160H620v160Z\"/>\n",
              "  </svg>\n",
              "    </button>\n",
              "\n",
              "  <style>\n",
              "    .colab-df-container {\n",
              "      display:flex;\n",
              "      gap: 12px;\n",
              "    }\n",
              "\n",
              "    .colab-df-convert {\n",
              "      background-color: #E8F0FE;\n",
              "      border: none;\n",
              "      border-radius: 50%;\n",
              "      cursor: pointer;\n",
              "      display: none;\n",
              "      fill: #1967D2;\n",
              "      height: 32px;\n",
              "      padding: 0 0 0 0;\n",
              "      width: 32px;\n",
              "    }\n",
              "\n",
              "    .colab-df-convert:hover {\n",
              "      background-color: #E2EBFA;\n",
              "      box-shadow: 0px 1px 2px rgba(60, 64, 67, 0.3), 0px 1px 3px 1px rgba(60, 64, 67, 0.15);\n",
              "      fill: #174EA6;\n",
              "    }\n",
              "\n",
              "    .colab-df-buttons div {\n",
              "      margin-bottom: 4px;\n",
              "    }\n",
              "\n",
              "    [theme=dark] .colab-df-convert {\n",
              "      background-color: #3B4455;\n",
              "      fill: #D2E3FC;\n",
              "    }\n",
              "\n",
              "    [theme=dark] .colab-df-convert:hover {\n",
              "      background-color: #434B5C;\n",
              "      box-shadow: 0px 1px 3px 1px rgba(0, 0, 0, 0.15);\n",
              "      filter: drop-shadow(0px 1px 2px rgba(0, 0, 0, 0.3));\n",
              "      fill: #FFFFFF;\n",
              "    }\n",
              "  </style>\n",
              "\n",
              "    <script>\n",
              "      const buttonEl =\n",
              "        document.querySelector('#df-6d232c3b-9a15-466c-ad7b-9e0915efdb23 button.colab-df-convert');\n",
              "      buttonEl.style.display =\n",
              "        google.colab.kernel.accessAllowed ? 'block' : 'none';\n",
              "\n",
              "      async function convertToInteractive(key) {\n",
              "        const element = document.querySelector('#df-6d232c3b-9a15-466c-ad7b-9e0915efdb23');\n",
              "        const dataTable =\n",
              "          await google.colab.kernel.invokeFunction('convertToInteractive',\n",
              "                                                    [key], {});\n",
              "        if (!dataTable) return;\n",
              "\n",
              "        const docLinkHtml = 'Like what you see? Visit the ' +\n",
              "          '<a target=\"_blank\" href=https://colab.research.google.com/notebooks/data_table.ipynb>data table notebook</a>'\n",
              "          + ' to learn more about interactive tables.';\n",
              "        element.innerHTML = '';\n",
              "        dataTable['output_type'] = 'display_data';\n",
              "        await google.colab.output.renderOutput(dataTable, element);\n",
              "        const docLink = document.createElement('div');\n",
              "        docLink.innerHTML = docLinkHtml;\n",
              "        element.appendChild(docLink);\n",
              "      }\n",
              "    </script>\n",
              "  </div>\n",
              "\n",
              "\n",
              "    <div id=\"df-2b145bb2-ef80-416d-81d7-6d2a2b41dbb4\">\n",
              "      <button class=\"colab-df-quickchart\" onclick=\"quickchart('df-2b145bb2-ef80-416d-81d7-6d2a2b41dbb4')\"\n",
              "                title=\"Suggest charts\"\n",
              "                style=\"display:none;\">\n",
              "\n",
              "<svg xmlns=\"http://www.w3.org/2000/svg\" height=\"24px\"viewBox=\"0 0 24 24\"\n",
              "     width=\"24px\">\n",
              "    <g>\n",
              "        <path d=\"M19 3H5c-1.1 0-2 .9-2 2v14c0 1.1.9 2 2 2h14c1.1 0 2-.9 2-2V5c0-1.1-.9-2-2-2zM9 17H7v-7h2v7zm4 0h-2V7h2v10zm4 0h-2v-4h2v4z\"/>\n",
              "    </g>\n",
              "</svg>\n",
              "      </button>\n",
              "\n",
              "<style>\n",
              "  .colab-df-quickchart {\n",
              "      --bg-color: #E8F0FE;\n",
              "      --fill-color: #1967D2;\n",
              "      --hover-bg-color: #E2EBFA;\n",
              "      --hover-fill-color: #174EA6;\n",
              "      --disabled-fill-color: #AAA;\n",
              "      --disabled-bg-color: #DDD;\n",
              "  }\n",
              "\n",
              "  [theme=dark] .colab-df-quickchart {\n",
              "      --bg-color: #3B4455;\n",
              "      --fill-color: #D2E3FC;\n",
              "      --hover-bg-color: #434B5C;\n",
              "      --hover-fill-color: #FFFFFF;\n",
              "      --disabled-bg-color: #3B4455;\n",
              "      --disabled-fill-color: #666;\n",
              "  }\n",
              "\n",
              "  .colab-df-quickchart {\n",
              "    background-color: var(--bg-color);\n",
              "    border: none;\n",
              "    border-radius: 50%;\n",
              "    cursor: pointer;\n",
              "    display: none;\n",
              "    fill: var(--fill-color);\n",
              "    height: 32px;\n",
              "    padding: 0;\n",
              "    width: 32px;\n",
              "  }\n",
              "\n",
              "  .colab-df-quickchart:hover {\n",
              "    background-color: var(--hover-bg-color);\n",
              "    box-shadow: 0 1px 2px rgba(60, 64, 67, 0.3), 0 1px 3px 1px rgba(60, 64, 67, 0.15);\n",
              "    fill: var(--button-hover-fill-color);\n",
              "  }\n",
              "\n",
              "  .colab-df-quickchart-complete:disabled,\n",
              "  .colab-df-quickchart-complete:disabled:hover {\n",
              "    background-color: var(--disabled-bg-color);\n",
              "    fill: var(--disabled-fill-color);\n",
              "    box-shadow: none;\n",
              "  }\n",
              "\n",
              "  .colab-df-spinner {\n",
              "    border: 2px solid var(--fill-color);\n",
              "    border-color: transparent;\n",
              "    border-bottom-color: var(--fill-color);\n",
              "    animation:\n",
              "      spin 1s steps(1) infinite;\n",
              "  }\n",
              "\n",
              "  @keyframes spin {\n",
              "    0% {\n",
              "      border-color: transparent;\n",
              "      border-bottom-color: var(--fill-color);\n",
              "      border-left-color: var(--fill-color);\n",
              "    }\n",
              "    20% {\n",
              "      border-color: transparent;\n",
              "      border-left-color: var(--fill-color);\n",
              "      border-top-color: var(--fill-color);\n",
              "    }\n",
              "    30% {\n",
              "      border-color: transparent;\n",
              "      border-left-color: var(--fill-color);\n",
              "      border-top-color: var(--fill-color);\n",
              "      border-right-color: var(--fill-color);\n",
              "    }\n",
              "    40% {\n",
              "      border-color: transparent;\n",
              "      border-right-color: var(--fill-color);\n",
              "      border-top-color: var(--fill-color);\n",
              "    }\n",
              "    60% {\n",
              "      border-color: transparent;\n",
              "      border-right-color: var(--fill-color);\n",
              "    }\n",
              "    80% {\n",
              "      border-color: transparent;\n",
              "      border-right-color: var(--fill-color);\n",
              "      border-bottom-color: var(--fill-color);\n",
              "    }\n",
              "    90% {\n",
              "      border-color: transparent;\n",
              "      border-bottom-color: var(--fill-color);\n",
              "    }\n",
              "  }\n",
              "</style>\n",
              "\n",
              "      <script>\n",
              "        async function quickchart(key) {\n",
              "          const quickchartButtonEl =\n",
              "            document.querySelector('#' + key + ' button');\n",
              "          quickchartButtonEl.disabled = true;  // To prevent multiple clicks.\n",
              "          quickchartButtonEl.classList.add('colab-df-spinner');\n",
              "          try {\n",
              "            const charts = await google.colab.kernel.invokeFunction(\n",
              "                'suggestCharts', [key], {});\n",
              "          } catch (error) {\n",
              "            console.error('Error during call to suggestCharts:', error);\n",
              "          }\n",
              "          quickchartButtonEl.classList.remove('colab-df-spinner');\n",
              "          quickchartButtonEl.classList.add('colab-df-quickchart-complete');\n",
              "        }\n",
              "        (() => {\n",
              "          let quickchartButtonEl =\n",
              "            document.querySelector('#df-2b145bb2-ef80-416d-81d7-6d2a2b41dbb4 button');\n",
              "          quickchartButtonEl.style.display =\n",
              "            google.colab.kernel.accessAllowed ? 'block' : 'none';\n",
              "        })();\n",
              "      </script>\n",
              "    </div>\n",
              "\n",
              "    </div>\n",
              "  </div>\n"
            ],
            "application/vnd.google.colaboratory.intrinsic+json": {
              "type": "dataframe",
              "variable_name": "data",
              "summary": "{\n  \"name\": \"data\",\n  \"rows\": 250,\n  \"fields\": [\n    {\n      \"column\": \"date\",\n      \"properties\": {\n        \"dtype\": \"date\",\n        \"min\": \"2018-06-19 00:00:00\",\n        \"max\": \"2019-06-17 00:00:00\",\n        \"num_unique_values\": 250,\n        \"samples\": [\n          \"2019-01-11 00:00:00\",\n          \"2018-06-27 00:00:00\",\n          \"2018-11-05 00:00:00\"\n        ],\n        \"semantic_type\": \"\",\n        \"description\": \"\"\n      }\n    },\n    {\n      \"column\": \"Open\",\n      \"properties\": {\n        \"dtype\": \"number\",\n        \"std\": 21.576879059730416,\n        \"min\": 143.98,\n        \"max\": 230.78,\n        \"num_unique_values\": 246,\n        \"samples\": [\n          209.32,\n          185.23,\n          183.9\n        ],\n        \"semantic_type\": \"\",\n        \"description\": \"\"\n      }\n    },\n    {\n      \"column\": \"High\",\n      \"properties\": {\n        \"dtype\": \"number\",\n        \"std\": 21.74275946549327,\n        \"min\": 145.72,\n        \"max\": 233.47,\n        \"num_unique_values\": 246,\n        \"samples\": [\n          209.25,\n          187.28,\n          184.1\n        ],\n        \"semantic_type\": \"\",\n        \"description\": \"\"\n      }\n    },\n    {\n      \"column\": \"Low\",\n      \"properties\": {\n        \"dtype\": \"number\",\n        \"std\": 21.48080978168906,\n        \"min\": 142.0,\n        \"max\": 229.78,\n        \"num_unique_values\": 244,\n        \"samples\": [\n          192.05,\n          184.03,\n          167.28\n        ],\n        \"semantic_type\": \"\",\n        \"description\": \"\"\n      }\n    },\n    {\n      \"column\": \"Close\",\n      \"properties\": {\n        \"dtype\": \"number\",\n        \"std\": 21.600556879776637,\n        \"min\": 142.19,\n        \"max\": 232.07,\n        \"num_unique_values\": 247,\n        \"samples\": [\n          209.07,\n          184.16,\n          181.71\n        ],\n        \"semantic_type\": \"\",\n        \"description\": \"\"\n      }\n    },\n    {\n      \"column\": \"Volume\",\n      \"properties\": {\n        \"dtype\": \"number\",\n        \"std\": 13880120,\n        \"min\": 12519792,\n        \"max\": 96246748,\n        \"num_unique_values\": 250,\n        \"samples\": [\n          27023241,\n          25285328,\n          66163669\n        ],\n        \"semantic_type\": \"\",\n        \"description\": \"\"\n      }\n    }\n  ]\n}"
            }
          },
          "metadata": {},
          "execution_count": 4
        }
      ],
      "source": [
        "import pandas as pd\n",
        "data = pd.read_csv('aaple_data_18_19.csv',\n",
        "                   index_col=0, parse_dates=True)\n",
        "data.head()"
      ]
    },
    {
      "cell_type": "markdown",
      "id": "6f43d9b7",
      "metadata": {
        "id": "6f43d9b7"
      },
      "source": [
        "## Price change for the last 5 days\n",
        "We will calculate the difference between the current price of the stock and the price of the stock five days ago. We will use shift() function for fetching the data for days in the past. data['Close'].shift(1) will give us yesterday's closing price, data['Close'].shift(6) will give us the closing price 6 days earlier. The difference of the two will give us the price change for the last 5 days and store this in a new column called 'pr_change'."
      ]
    },
    {
      "cell_type": "code",
      "execution_count": 5,
      "id": "d506f465",
      "metadata": {
        "scrolled": true,
        "id": "d506f465"
      },
      "outputs": [],
      "source": [
        "data['pr_chg'] = data['Close'].shift(1)-data['Close'].shift(6)"
      ]
    },
    {
      "cell_type": "markdown",
      "id": "cf3f77e1",
      "metadata": {
        "id": "cf3f77e1"
      },
      "source": [
        "## Standard deviation of price change\n",
        "Next, we will calculate 100 days standard deviation of price change and store the value in a new column called 'std_100day' by using the rolling.std() function. This will help us to measure volatility of change in price for the stock."
      ]
    },
    {
      "cell_type": "code",
      "execution_count": 6,
      "id": "6ee3e200",
      "metadata": {
        "id": "6ee3e200"
      },
      "outputs": [],
      "source": [
        "data['std_100day'] = data['pr_chg'].rolling(window=100).std()"
      ]
    },
    {
      "cell_type": "markdown",
      "id": "d34624b3",
      "metadata": {
        "collapsed": true,
        "jupyter": {
          "outputs_hidden": true
        },
        "id": "d34624b3"
      },
      "source": [
        "## Average volume traded\n",
        "Now we will calculate the last 5 day's (previous week's) average traded volume by using the shift() and rolling.mean() functions and store the values in a new column '5d_avg_vol'."
      ]
    },
    {
      "cell_type": "code",
      "execution_count": 7,
      "id": "6ae8fa57",
      "metadata": {
        "id": "6ae8fa57"
      },
      "outputs": [],
      "source": [
        "data['5d_avg_vol'] = data['Volume'].shift(1).rolling(window=5).mean()"
      ]
    },
    {
      "cell_type": "markdown",
      "id": "168bd368",
      "metadata": {
        "id": "168bd368"
      },
      "source": [
        "## Average volume traded between last 5 to 10 days\n",
        "Next, we will calculate the average traded volume for last 5 to 10 days by shifting the values in column '5d_avg_vol' and store this value in a new column 'past 5d_avg_vol'."
      ]
    },
    {
      "cell_type": "code",
      "execution_count": 8,
      "id": "e249863a",
      "metadata": {
        "id": "e249863a"
      },
      "outputs": [],
      "source": [
        "data['past 5d_avg_vol'] = data['5d_avg_vol'].shift(5)"
      ]
    },
    {
      "cell_type": "markdown",
      "id": "439ccccd",
      "metadata": {
        "id": "439ccccd"
      },
      "source": [
        "## Signal column\n",
        "To store the trading signals we will create a 'signal' column and store 0 values in it."
      ]
    },
    {
      "cell_type": "code",
      "execution_count": 9,
      "id": "9f1095a5",
      "metadata": {
        "id": "9f1095a5"
      },
      "outputs": [],
      "source": [
        "data['signal'] = 0"
      ]
    },
    {
      "cell_type": "markdown",
      "id": "b02b14f7",
      "metadata": {
        "id": "b02b14f7"
      },
      "source": [
        "## Buy signal\n",
        "A signal to buy will be triggered when the absolute value of the 5 day price change is greater than the 100 day standard deviation and the 5 day average traded volume is less than the 5 day average volume beginning 10 days prior and the 5 day price change is negative. We will assign a value of 1 to the column 'signal' when these conditions are met.\n",
        "\n",
        "Please note that we are comparing the 5 day average volume with 5 day average volume beginning 10 days prior instead of considering 75% of the 5 day average volume beginning 10 days prior as was stated in the video lecture because the number of signals generated was very low with the 75% condition."
      ]
    },
    {
      "cell_type": "code",
      "execution_count": 10,
      "id": "2623771e",
      "metadata": {
        "id": "2623771e"
      },
      "outputs": [],
      "source": [
        "data.loc[((data['pr_chg'].abs() > data['std_100day']) & (data['5d_avg_vol'] < data['past 5d_avg_vol'])\n",
        "          & (data['pr_chg'] < 0)), 'signal'] = 1"
      ]
    },
    {
      "cell_type": "markdown",
      "id": "3d0ec1c2",
      "metadata": {
        "id": "3d0ec1c2"
      },
      "source": [
        "## Sell signal\n",
        "Similarly, a sell signal will be generated when the value of price change is positive. In this case, we store a value of -1 in the signal column."
      ]
    },
    {
      "cell_type": "code",
      "execution_count": 11,
      "id": "8379dc6f",
      "metadata": {
        "id": "8379dc6f"
      },
      "outputs": [],
      "source": [
        "data.loc[((data['pr_chg'].abs() > data['std_100day'])\n",
        "          & (data['5d_avg_vol'] < data['past 5d_avg_vol'])\n",
        "          & (data['pr_chg'] > 0)), 'signal'] = -1"
      ]
    },
    {
      "cell_type": "markdown",
      "id": "71513a3d",
      "metadata": {
        "id": "71513a3d"
      },
      "source": [
        "## c_signal and exit columns\n",
        "Next, we will create two columns, c_signal and exit, to measure the count of continuous signals and the exit criterion respectively and store 0 values in them."
      ]
    },
    {
      "cell_type": "code",
      "execution_count": 12,
      "id": "baa85f1b",
      "metadata": {
        "id": "baa85f1b"
      },
      "outputs": [],
      "source": [
        "data['c_signal'] = 0\n",
        "data['exit'] = 0"
      ]
    },
    {
      "cell_type": "markdown",
      "id": "3d8a2b62",
      "metadata": {
        "id": "3d8a2b62"
      },
      "source": [
        "## Entry and Exit signal\n",
        "\n",
        "In this block of code, we will implement the core of the strategy. Here we will check for the last entry signal, if the signal is more than 5 days old then we exit the position, else we will continue to hold it until the signal is 5 days old or a counter signal is generated.\n",
        "\n",
        "Let us understand what we do in each of the if statements below:\n",
        "\n",
        "First, we check if a new signal is generated, if it is then we will assign the c_signal column equal to the new signal, and then we update the exit criterion according to the signal generated. In this case, we will check if the signal is 1 if it is so, then we will mark the exit count as 1 otherwise, we will mark it as -1.\n",
        "\n",
        "Next, we will check if the entry signal is same as the existing position. If it is so, then we will update the exit criterion depending on the position. For example, if you are already long then your c_signal would be 1, hence it will be incremented by 1. If you are short then your c_signal is -1 and your exit will be reduced by 1.\n",
        "\n",
        "After this, we will update the exit criterion for an already existing long trade. We check if the exit value of the c_signal is less than 5 days old, if this is the case then we verify if the continuing signal is same as the previous days then we increment the exit by 1.\n",
        "\n",
        "\n",
        "Just as in the above step, we will update the exit criterion for an already existing short trade.\n",
        "\n",
        "\n",
        "Next, we will update the exit criterion to 0 on the fifth day after entering the trade. This is one of the conditions of the strategy and accordingly, we will close all positions on their 5th day."
      ]
    },
    {
      "cell_type": "code",
      "execution_count": 13,
      "id": "03b11e15",
      "metadata": {
        "id": "03b11e15"
      },
      "outputs": [],
      "source": [
        "for i in range(len(data)):\n",
        "    if (data.iloc[i]['signal'] != 0) & (data.iloc[i]['signal']\n",
        "                                        != data.iloc[i - 1]['c_signal']):\n",
        "        data.iloc[i, data.columns.get_loc('c_signal')] = data.iloc[i,\n",
        "                                                                   data.columns.get_loc('signal')]\n",
        "        if data['signal'][i] == 1:\n",
        "            data.iloc[i, data.columns.get_loc('exit')] = 1\n",
        "        else:\n",
        "            data.iloc[i, data.columns.get_loc('exit')] = -1\n",
        "\n",
        "    if (data['signal'][i] != 0) & (data['signal'][i] == data['c_signal'\n",
        "                                                             ][i - 1]):\n",
        "        data.iloc[i, data.columns.get_loc('c_signal')] = data['c_signal'\n",
        "                                                              ][i - 1]\n",
        "        if data['c_signal'][i - 1] == 1:\n",
        "            data.iloc[i, data.columns.get_loc('exit')] = int(data['exit'\n",
        "                                                                  ][i - 1]) + 1\n",
        "        else:\n",
        "            data.iloc[i, data.columns.get_loc('exit')] = int(data['exit'\n",
        "                                                                  ][i - 1]) - 1\n",
        "    if (data['signal'][i] == 0) & (data['exit'][i - 1] < 5) \\\n",
        "            & (data['exit'][i - 1] > 0):\n",
        "        data.iloc[i, data.columns.get_loc('c_signal')] = data['c_signal'\n",
        "                                                              ][i - 1]\n",
        "        data.iloc[i, data.columns.get_loc('exit')] = int(data['exit'][i\n",
        "                                                                      - 1]) + 1\n",
        "    if (data['signal'][i] == 0) & (data['exit'][i - 1] > -5) \\\n",
        "            & (data['exit'][i - 1] < 0):\n",
        "        data.iloc[i, data.columns.get_loc('c_signal')] = data['c_signal'\n",
        "                                                              ][i - 1]\n",
        "        data.iloc[i, data.columns.get_loc('exit')] = int(data['exit'][i\n",
        "                                                                      - 1]) - 1\n",
        "    if (data['signal'][i] == 0) & ((data['exit'][i - 1] == 5)\n",
        "                                   | (data['exit'][i - 1] == -5)):\n",
        "        data.iloc[i, data.columns.get_loc('c_signal')] = 0\n",
        "        data.iloc[i, data.columns.get_loc('exit')] = 0"
      ]
    },
    {
      "cell_type": "code",
      "execution_count": 14,
      "id": "8be14a9f",
      "metadata": {
        "colab": {
          "base_uri": "https://localhost:8080/"
        },
        "id": "8be14a9f",
        "outputId": "e1403099-60e9-4300-d5e1-b000c66a2b21"
      },
      "outputs": [
        {
          "output_type": "stream",
          "name": "stdout",
          "text": [
            "              Open    High     Low   Close    Volume  pr_chg  std_100day  \\\n",
            "date                                                                       \n",
            "2019-06-11  194.86  196.00  193.60  194.81  26932882   19.28    7.068511   \n",
            "2019-06-12  193.95  195.97  193.39  194.19  18253189   15.17    7.196139   \n",
            "2019-06-13  194.70  196.79  193.60  194.15  21674625   11.65    7.263067   \n",
            "2019-06-14  191.55  193.59  190.30  192.74  18761474    8.93    7.292381   \n",
            "2019-06-17  192.90  194.96  192.17  193.89  14669144    2.59    7.291401   \n",
            "\n",
            "            5d_avg_vol  past 5d_avg_vol  signal  c_signal  exit  \n",
            "date                                                             \n",
            "2019-06-11  28034588.6       29017478.0      -1        -1    -1  \n",
            "2019-06-12  27227572.8       29621438.2      -1        -1    -2  \n",
            "2019-06-13  24923525.2       29879890.6      -1        -1    -3  \n",
            "2019-06-14  24753188.0       30141470.4      -1        -1    -4  \n",
            "2019-06-17  22368604.2       30869632.2       0        -1    -5  \n"
          ]
        }
      ],
      "source": [
        "print(data.tail())"
      ]
    },
    {
      "cell_type": "markdown",
      "id": "b837330e",
      "metadata": {
        "id": "b837330e"
      },
      "source": [
        "## Market returns\n",
        "We will now calculate the returns of the market for each day by dividing the current day closing price by the previous day's closing price."
      ]
    },
    {
      "cell_type": "code",
      "execution_count": 15,
      "id": "4f4e6d20",
      "metadata": {
        "id": "4f4e6d20"
      },
      "outputs": [],
      "source": [
        "data['return'] = data['Close'].pct_change()"
      ]
    },
    {
      "cell_type": "markdown",
      "id": "e2ea311b",
      "metadata": {
        "id": "e2ea311b"
      },
      "source": [
        "## Strategy returns\n",
        "It is now time to calculate the returns of the strategy by taking the product of return and its corresponding value in the column c_signal."
      ]
    },
    {
      "cell_type": "code",
      "execution_count": 16,
      "id": "e791a980",
      "metadata": {
        "id": "e791a980"
      },
      "outputs": [],
      "source": [
        "data['str_return'] = data['return']*data['c_signal'].shift(1)"
      ]
    },
    {
      "cell_type": "markdown",
      "id": "1aadef77",
      "metadata": {
        "id": "1aadef77"
      },
      "source": [
        "## Cumulative returns\n",
        "We will create two new columns to calculate cumulative returns of the strategy and that of the market."
      ]
    },
    {
      "cell_type": "code",
      "execution_count": 17,
      "id": "acf3e89b",
      "metadata": {
        "id": "acf3e89b"
      },
      "outputs": [],
      "source": [
        "data['cu_str_return'] = 0\n",
        "data['cu_mar_return'] = 0"
      ]
    },
    {
      "cell_type": "markdown",
      "id": "ae00184d",
      "metadata": {
        "id": "ae00184d"
      },
      "source": [
        "## Returns after the first hundred days\n",
        "Next, we will calculate the strategy and market returns after the first hundred days as the first signal will need hundred days of data to calculate the standard deviation in the std_100 day column."
      ]
    },
    {
      "cell_type": "code",
      "execution_count": 18,
      "id": "f99d3c0b",
      "metadata": {
        "id": "f99d3c0b"
      },
      "outputs": [],
      "source": [
        "data.iloc[100:,data.columns.get_loc('cu_str_return')]= (data['str_return'][100:]+1).cumprod()"
      ]
    },
    {
      "cell_type": "code",
      "execution_count": 19,
      "id": "6ad1d1e4",
      "metadata": {
        "id": "6ad1d1e4"
      },
      "outputs": [],
      "source": [
        "data.iloc[100:, data.columns.get_loc('cu_mar_return')] = (\n",
        "    data['return'][100:]+1).cumprod()"
      ]
    },
    {
      "cell_type": "code",
      "execution_count": 20,
      "id": "261ddfff",
      "metadata": {
        "colab": {
          "base_uri": "https://localhost:8080/",
          "height": 238
        },
        "id": "261ddfff",
        "outputId": "7cd5300d-21a4-4a7d-cf83-cf55329128e5"
      },
      "outputs": [
        {
          "output_type": "execute_result",
          "data": {
            "text/plain": [
              "            cu_mar_return  cu_str_return  c_signal\n",
              "date                                              \n",
              "2019-06-11       0.927888       0.824514        -1\n",
              "2019-06-12       0.924935       0.827138        -1\n",
              "2019-06-13       0.924744       0.827309        -1\n",
              "2019-06-14       0.918028       0.833317        -1\n",
              "2019-06-17       0.923506       0.828345        -1"
            ],
            "text/html": [
              "\n",
              "  <div id=\"df-131abb38-f31c-418d-a962-471e7eff19ee\" class=\"colab-df-container\">\n",
              "    <div>\n",
              "<style scoped>\n",
              "    .dataframe tbody tr th:only-of-type {\n",
              "        vertical-align: middle;\n",
              "    }\n",
              "\n",
              "    .dataframe tbody tr th {\n",
              "        vertical-align: top;\n",
              "    }\n",
              "\n",
              "    .dataframe thead th {\n",
              "        text-align: right;\n",
              "    }\n",
              "</style>\n",
              "<table border=\"1\" class=\"dataframe\">\n",
              "  <thead>\n",
              "    <tr style=\"text-align: right;\">\n",
              "      <th></th>\n",
              "      <th>cu_mar_return</th>\n",
              "      <th>cu_str_return</th>\n",
              "      <th>c_signal</th>\n",
              "    </tr>\n",
              "    <tr>\n",
              "      <th>date</th>\n",
              "      <th></th>\n",
              "      <th></th>\n",
              "      <th></th>\n",
              "    </tr>\n",
              "  </thead>\n",
              "  <tbody>\n",
              "    <tr>\n",
              "      <th>2019-06-11</th>\n",
              "      <td>0.927888</td>\n",
              "      <td>0.824514</td>\n",
              "      <td>-1</td>\n",
              "    </tr>\n",
              "    <tr>\n",
              "      <th>2019-06-12</th>\n",
              "      <td>0.924935</td>\n",
              "      <td>0.827138</td>\n",
              "      <td>-1</td>\n",
              "    </tr>\n",
              "    <tr>\n",
              "      <th>2019-06-13</th>\n",
              "      <td>0.924744</td>\n",
              "      <td>0.827309</td>\n",
              "      <td>-1</td>\n",
              "    </tr>\n",
              "    <tr>\n",
              "      <th>2019-06-14</th>\n",
              "      <td>0.918028</td>\n",
              "      <td>0.833317</td>\n",
              "      <td>-1</td>\n",
              "    </tr>\n",
              "    <tr>\n",
              "      <th>2019-06-17</th>\n",
              "      <td>0.923506</td>\n",
              "      <td>0.828345</td>\n",
              "      <td>-1</td>\n",
              "    </tr>\n",
              "  </tbody>\n",
              "</table>\n",
              "</div>\n",
              "    <div class=\"colab-df-buttons\">\n",
              "\n",
              "  <div class=\"colab-df-container\">\n",
              "    <button class=\"colab-df-convert\" onclick=\"convertToInteractive('df-131abb38-f31c-418d-a962-471e7eff19ee')\"\n",
              "            title=\"Convert this dataframe to an interactive table.\"\n",
              "            style=\"display:none;\">\n",
              "\n",
              "  <svg xmlns=\"http://www.w3.org/2000/svg\" height=\"24px\" viewBox=\"0 -960 960 960\">\n",
              "    <path d=\"M120-120v-720h720v720H120Zm60-500h600v-160H180v160Zm220 220h160v-160H400v160Zm0 220h160v-160H400v160ZM180-400h160v-160H180v160Zm440 0h160v-160H620v160ZM180-180h160v-160H180v160Zm440 0h160v-160H620v160Z\"/>\n",
              "  </svg>\n",
              "    </button>\n",
              "\n",
              "  <style>\n",
              "    .colab-df-container {\n",
              "      display:flex;\n",
              "      gap: 12px;\n",
              "    }\n",
              "\n",
              "    .colab-df-convert {\n",
              "      background-color: #E8F0FE;\n",
              "      border: none;\n",
              "      border-radius: 50%;\n",
              "      cursor: pointer;\n",
              "      display: none;\n",
              "      fill: #1967D2;\n",
              "      height: 32px;\n",
              "      padding: 0 0 0 0;\n",
              "      width: 32px;\n",
              "    }\n",
              "\n",
              "    .colab-df-convert:hover {\n",
              "      background-color: #E2EBFA;\n",
              "      box-shadow: 0px 1px 2px rgba(60, 64, 67, 0.3), 0px 1px 3px 1px rgba(60, 64, 67, 0.15);\n",
              "      fill: #174EA6;\n",
              "    }\n",
              "\n",
              "    .colab-df-buttons div {\n",
              "      margin-bottom: 4px;\n",
              "    }\n",
              "\n",
              "    [theme=dark] .colab-df-convert {\n",
              "      background-color: #3B4455;\n",
              "      fill: #D2E3FC;\n",
              "    }\n",
              "\n",
              "    [theme=dark] .colab-df-convert:hover {\n",
              "      background-color: #434B5C;\n",
              "      box-shadow: 0px 1px 3px 1px rgba(0, 0, 0, 0.15);\n",
              "      filter: drop-shadow(0px 1px 2px rgba(0, 0, 0, 0.3));\n",
              "      fill: #FFFFFF;\n",
              "    }\n",
              "  </style>\n",
              "\n",
              "    <script>\n",
              "      const buttonEl =\n",
              "        document.querySelector('#df-131abb38-f31c-418d-a962-471e7eff19ee button.colab-df-convert');\n",
              "      buttonEl.style.display =\n",
              "        google.colab.kernel.accessAllowed ? 'block' : 'none';\n",
              "\n",
              "      async function convertToInteractive(key) {\n",
              "        const element = document.querySelector('#df-131abb38-f31c-418d-a962-471e7eff19ee');\n",
              "        const dataTable =\n",
              "          await google.colab.kernel.invokeFunction('convertToInteractive',\n",
              "                                                    [key], {});\n",
              "        if (!dataTable) return;\n",
              "\n",
              "        const docLinkHtml = 'Like what you see? Visit the ' +\n",
              "          '<a target=\"_blank\" href=https://colab.research.google.com/notebooks/data_table.ipynb>data table notebook</a>'\n",
              "          + ' to learn more about interactive tables.';\n",
              "        element.innerHTML = '';\n",
              "        dataTable['output_type'] = 'display_data';\n",
              "        await google.colab.output.renderOutput(dataTable, element);\n",
              "        const docLink = document.createElement('div');\n",
              "        docLink.innerHTML = docLinkHtml;\n",
              "        element.appendChild(docLink);\n",
              "      }\n",
              "    </script>\n",
              "  </div>\n",
              "\n",
              "\n",
              "    <div id=\"df-7cd2880a-d6f0-414c-9d85-2df04735ab77\">\n",
              "      <button class=\"colab-df-quickchart\" onclick=\"quickchart('df-7cd2880a-d6f0-414c-9d85-2df04735ab77')\"\n",
              "                title=\"Suggest charts\"\n",
              "                style=\"display:none;\">\n",
              "\n",
              "<svg xmlns=\"http://www.w3.org/2000/svg\" height=\"24px\"viewBox=\"0 0 24 24\"\n",
              "     width=\"24px\">\n",
              "    <g>\n",
              "        <path d=\"M19 3H5c-1.1 0-2 .9-2 2v14c0 1.1.9 2 2 2h14c1.1 0 2-.9 2-2V5c0-1.1-.9-2-2-2zM9 17H7v-7h2v7zm4 0h-2V7h2v10zm4 0h-2v-4h2v4z\"/>\n",
              "    </g>\n",
              "</svg>\n",
              "      </button>\n",
              "\n",
              "<style>\n",
              "  .colab-df-quickchart {\n",
              "      --bg-color: #E8F0FE;\n",
              "      --fill-color: #1967D2;\n",
              "      --hover-bg-color: #E2EBFA;\n",
              "      --hover-fill-color: #174EA6;\n",
              "      --disabled-fill-color: #AAA;\n",
              "      --disabled-bg-color: #DDD;\n",
              "  }\n",
              "\n",
              "  [theme=dark] .colab-df-quickchart {\n",
              "      --bg-color: #3B4455;\n",
              "      --fill-color: #D2E3FC;\n",
              "      --hover-bg-color: #434B5C;\n",
              "      --hover-fill-color: #FFFFFF;\n",
              "      --disabled-bg-color: #3B4455;\n",
              "      --disabled-fill-color: #666;\n",
              "  }\n",
              "\n",
              "  .colab-df-quickchart {\n",
              "    background-color: var(--bg-color);\n",
              "    border: none;\n",
              "    border-radius: 50%;\n",
              "    cursor: pointer;\n",
              "    display: none;\n",
              "    fill: var(--fill-color);\n",
              "    height: 32px;\n",
              "    padding: 0;\n",
              "    width: 32px;\n",
              "  }\n",
              "\n",
              "  .colab-df-quickchart:hover {\n",
              "    background-color: var(--hover-bg-color);\n",
              "    box-shadow: 0 1px 2px rgba(60, 64, 67, 0.3), 0 1px 3px 1px rgba(60, 64, 67, 0.15);\n",
              "    fill: var(--button-hover-fill-color);\n",
              "  }\n",
              "\n",
              "  .colab-df-quickchart-complete:disabled,\n",
              "  .colab-df-quickchart-complete:disabled:hover {\n",
              "    background-color: var(--disabled-bg-color);\n",
              "    fill: var(--disabled-fill-color);\n",
              "    box-shadow: none;\n",
              "  }\n",
              "\n",
              "  .colab-df-spinner {\n",
              "    border: 2px solid var(--fill-color);\n",
              "    border-color: transparent;\n",
              "    border-bottom-color: var(--fill-color);\n",
              "    animation:\n",
              "      spin 1s steps(1) infinite;\n",
              "  }\n",
              "\n",
              "  @keyframes spin {\n",
              "    0% {\n",
              "      border-color: transparent;\n",
              "      border-bottom-color: var(--fill-color);\n",
              "      border-left-color: var(--fill-color);\n",
              "    }\n",
              "    20% {\n",
              "      border-color: transparent;\n",
              "      border-left-color: var(--fill-color);\n",
              "      border-top-color: var(--fill-color);\n",
              "    }\n",
              "    30% {\n",
              "      border-color: transparent;\n",
              "      border-left-color: var(--fill-color);\n",
              "      border-top-color: var(--fill-color);\n",
              "      border-right-color: var(--fill-color);\n",
              "    }\n",
              "    40% {\n",
              "      border-color: transparent;\n",
              "      border-right-color: var(--fill-color);\n",
              "      border-top-color: var(--fill-color);\n",
              "    }\n",
              "    60% {\n",
              "      border-color: transparent;\n",
              "      border-right-color: var(--fill-color);\n",
              "    }\n",
              "    80% {\n",
              "      border-color: transparent;\n",
              "      border-right-color: var(--fill-color);\n",
              "      border-bottom-color: var(--fill-color);\n",
              "    }\n",
              "    90% {\n",
              "      border-color: transparent;\n",
              "      border-bottom-color: var(--fill-color);\n",
              "    }\n",
              "  }\n",
              "</style>\n",
              "\n",
              "      <script>\n",
              "        async function quickchart(key) {\n",
              "          const quickchartButtonEl =\n",
              "            document.querySelector('#' + key + ' button');\n",
              "          quickchartButtonEl.disabled = true;  // To prevent multiple clicks.\n",
              "          quickchartButtonEl.classList.add('colab-df-spinner');\n",
              "          try {\n",
              "            const charts = await google.colab.kernel.invokeFunction(\n",
              "                'suggestCharts', [key], {});\n",
              "          } catch (error) {\n",
              "            console.error('Error during call to suggestCharts:', error);\n",
              "          }\n",
              "          quickchartButtonEl.classList.remove('colab-df-spinner');\n",
              "          quickchartButtonEl.classList.add('colab-df-quickchart-complete');\n",
              "        }\n",
              "        (() => {\n",
              "          let quickchartButtonEl =\n",
              "            document.querySelector('#df-7cd2880a-d6f0-414c-9d85-2df04735ab77 button');\n",
              "          quickchartButtonEl.style.display =\n",
              "            google.colab.kernel.accessAllowed ? 'block' : 'none';\n",
              "        })();\n",
              "      </script>\n",
              "    </div>\n",
              "\n",
              "    </div>\n",
              "  </div>\n"
            ],
            "application/vnd.google.colaboratory.intrinsic+json": {
              "type": "dataframe",
              "summary": "{\n  \"name\": \"data[['cu_mar_return', 'cu_str_return', 'c_signal']]\",\n  \"rows\": 5,\n  \"fields\": [\n    {\n      \"column\": \"date\",\n      \"properties\": {\n        \"dtype\": \"date\",\n        \"min\": \"2019-06-11 00:00:00\",\n        \"max\": \"2019-06-17 00:00:00\",\n        \"num_unique_values\": 5,\n        \"samples\": [\n          \"2019-06-12 00:00:00\",\n          \"2019-06-17 00:00:00\",\n          \"2019-06-13 00:00:00\"\n        ],\n        \"semantic_type\": \"\",\n        \"description\": \"\"\n      }\n    },\n    {\n      \"column\": \"cu_mar_return\",\n      \"properties\": {\n        \"dtype\": \"number\",\n        \"std\": 0.003615457083065617,\n        \"min\": 0.9180281019290302,\n        \"max\": 0.9278875922838765,\n        \"num_unique_values\": 5,\n        \"samples\": [\n          0.9249345082162413,\n          0.9235055965706114,\n          0.9247439866634908\n        ],\n        \"semantic_type\": \"\",\n        \"description\": \"\"\n      }\n    },\n    {\n      \"column\": \"cu_str_return\",\n      \"properties\": {\n        \"dtype\": \"number\",\n        \"std\": 0.003228095976348078,\n        \"min\": 0.82451433406618,\n        \"max\": 0.8333170696775726,\n        \"num_unique_values\": 5,\n        \"samples\": [\n          0.8271384236258589,\n          0.8283450107892817,\n          0.8273088007665202\n        ],\n        \"semantic_type\": \"\",\n        \"description\": \"\"\n      }\n    },\n    {\n      \"column\": \"c_signal\",\n      \"properties\": {\n        \"dtype\": \"number\",\n        \"std\": 0,\n        \"min\": -1,\n        \"max\": -1,\n        \"num_unique_values\": 1,\n        \"samples\": [\n          -1\n        ],\n        \"semantic_type\": \"\",\n        \"description\": \"\"\n      }\n    }\n  ]\n}"
            }
          },
          "metadata": {},
          "execution_count": 20
        }
      ],
      "source": [
        "data[['cu_mar_return', 'cu_str_return', 'c_signal']].tail()"
      ]
    },
    {
      "cell_type": "markdown",
      "id": "5ef1a1c0",
      "metadata": {
        "id": "5ef1a1c0"
      },
      "source": [
        "## Plot the returns\n",
        "We will now plot the returns of the market and that of the strategy on a chart."
      ]
    },
    {
      "cell_type": "code",
      "execution_count": 21,
      "id": "5e385b7a",
      "metadata": {
        "colab": {
          "base_uri": "https://localhost:8080/",
          "height": 619
        },
        "id": "5e385b7a",
        "outputId": "75326cf6-11f0-4d24-ce65-97af02eb940c"
      },
      "outputs": [
        {
          "output_type": "display_data",
          "data": {
            "text/plain": [
              "<Figure size 1000x700 with 1 Axes>"
            ],
            "image/png": "[encoded data removed]"
          },
          "metadata": {}
        }
      ],
      "source": [
        "from pandas.plotting import register_matplotlib_converters\n",
        "register_matplotlib_converters()\n",
        "plt.figure(figsize=(10, 7))\n",
        "plt.plot(data['cu_str_return'][100:], color='g', label='Strategy Returns')\n",
        "plt.plot(data['cu_mar_return'][100:], color='r', label='Market Returns')\n",
        "plt.xlabel('Date')\n",
        "plt.ylabel('Returns')\n",
        "plt.show()"
      ]
    },
    {
      "cell_type": "markdown",
      "id": "8003090e",
      "metadata": {
        "id": "8003090e"
      },
      "source": [
        "## Sharpe ratio\n",
        "To evaluate the returns of the strategy we will calculate the Sharpe ratio by dividing the difference between the cumulative strategy returns and that of market returns by standard deviation of cumulative strategy returns."
      ]
    },
    {
      "cell_type": "code",
      "execution_count": 22,
      "id": "457d0dc2",
      "metadata": {
        "colab": {
          "base_uri": "https://localhost:8080/"
        },
        "id": "457d0dc2",
        "outputId": "187859f4-c133-40e5-86db-fc1f9b2e4deb"
      },
      "outputs": [
        {
          "output_type": "execute_result",
          "data": {
            "text/plain": [
              "np.float64(-0.21271679560577883)"
            ]
          },
          "metadata": {},
          "execution_count": 22
        }
      ],
      "source": [
        "(data['cu_str_return'].iloc[-1]-data['cu_mar_return'].iloc[-1]) / \\\n",
        "    data['cu_str_return'].std()"
      ]
    },
    {
      "cell_type": "markdown",
      "id": "a68f2c4c",
      "metadata": {
        "collapsed": true,
        "jupyter": {
          "outputs_hidden": true
        },
        "id": "a68f2c4c"
      },
      "source": [
        "#### Note: The number of signals generated may increase if we apply the strategy to a portfolio of stocks instead of just one stock."
      ]
    }
  ],
  "metadata": {
    "anaconda-cloud": {},
    "kernelspec": {
      "display_name": "Python 3 (ipykernel)",
      "language": "python",
      "name": "python3"
    },
    "language_info": {
      "codemirror_mode": {
        "name": "ipython",
        "version": 3
      },
      "file_extension": ".py",
      "mimetype": "text/x-python",
      "name": "python",
      "nbconvert_exporter": "python",
      "pygments_lexer": "ipython3",
      "version": "3.11.9"
    },
    "colab": {
      "provenance": []
    }
  },
  "nbformat": 4,
  "nbformat_minor": 5
}